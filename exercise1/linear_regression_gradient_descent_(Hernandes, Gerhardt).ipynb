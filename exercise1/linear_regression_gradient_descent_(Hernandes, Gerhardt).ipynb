{
 "cells": [
  {
   "cell_type": "markdown",
   "metadata": {},
   "source": [
    "Machine Learning: Programming Exercise 1\n",
    "Linear Regression\n",
    "In this exercise, you will implement linear regression and get to see it work on data.\n",
    "\n",
    "The goal of this script is to replicate the exercise 1 from Stanford Machine Learning course in Cousera in python. The course uses Matlab/Octave."
   ]
  },
  {
   "cell_type": "code",
   "execution_count": 19,
   "metadata": {},
   "outputs": [],
   "source": [
    "import pandas as pd\n",
    "import numpy as np\n",
    "import matplotlib.pyplot as plt"
   ]
  },
  {
   "cell_type": "code",
   "execution_count": 2,
   "metadata": {},
   "outputs": [],
   "source": [
    "##### INSERT ONES FUNCTION #####\n",
    "def insert_ones(x):\n",
    "    \"\"\" Inserts a column of 'ones' into the dataframe, first row. The ones will multiply theta zero\n",
    "    \n",
    "    x : has to be a DataFrame or Series \n",
    "    \n",
    "    \"\"\"\n",
    "    # inserts a column of ones to x\n",
    "    return x.insert(0, 'ones', np.ones((x.shape[0],1)))\n",
    "\n",
    "\n",
    "#### NORMALIZE THE DATA USING MEAN E STANDARD DEVIATION #####\n",
    "def normalize(data):\n",
    "    \"\"\" Input has to be pandas DataFrame or Series. Returns the normalized DataFrame or Series. \"\"\"\n",
    "    for j in range(data.shape[1]):\n",
    "        mu = data[:,j].mean()\n",
    "        sd = data[:,j].std()\n",
    "        for i in range(data.shape[0]):\n",
    "            # if data[i][i] == the mean and sd == 0, then it is a 0/0 division\n",
    "            if (data[i][j] != mu) and (sd != 0):\n",
    "                data[i][j] = ((data[i][j]-mu)/sd)\n",
    "            else:\n",
    "                continue\n",
    "    return data"
   ]
  },
  {
   "cell_type": "code",
   "execution_count": 3,
   "metadata": {},
   "outputs": [],
   "source": [
    "#import the data\n",
    "\n",
    "df = pd.read_csv('ex1data2.txt', header = None)\n",
    "\n",
    "# Split the data in X and Y\n",
    "\n",
    "x = df[df.columns[0:(len(df.columns))-1]]\n",
    "y = df[df.columns[-1:df.columns.size]]\n",
    "x.insert(0, 'ones', np.ones((x.shape[0],1)))\n",
    "X = pd.DataFrame.to_numpy(x)\n",
    "Y = pd.DataFrame.to_numpy(y)\n",
    "\n",
    "# Normalize X\n",
    "X = normalize(X)"
   ]
  },
  {
   "cell_type": "code",
   "execution_count": 85,
   "metadata": {},
   "outputs": [],
   "source": [
    "class linear_regression:\n",
    "\n",
    "    def __init__(self):\n",
    "        \"\"\" Init \"\"\"\n",
    "        # initializes a list to save the cost function values\n",
    "        self.cost_history = []\n",
    "\n",
    "\n",
    "    def fit(self, x, y, iter=1000, alpha=0.01):\n",
    "        \"\"\" Fits x to y. Parameter has to be a DataFrame/Series/Np array \"\"\"\n",
    "        # initializes the parameters based on the number of features\n",
    "        self.theta = np.random.rand(x.shape[1],1)\n",
    "        \n",
    "        # training the parameters - gradient descent\n",
    "        for i in range(iter):\n",
    "            # updating theta\n",
    "            self.theta -= (alpha/x.shape[0])*((x.T).dot(((x.dot(self.theta))-y)))\n",
    "            # Store the cost function computation in a list\n",
    "            self.cost_history.append(self.cost_function(x, y, self.theta))\n",
    "            \n",
    "        return self.theta, self.cost_history\n",
    "\n",
    "\n",
    "    def cost_function(self, x, y, theta):\n",
    "        \"\"\"  Compute cost - mean squared error - for linear regression with multiple variables \"\"\"\n",
    "        return (1/(2*x.shape[0]))*np.sum((x.dot(self.theta)-y)**2)\n",
    "        \n",
    "\n",
    "    def show_cost_plot(self):\n",
    "        \"\"\" Simple plot of cost in every iteration after fit() \"\"\"\n",
    "        plt.plot(self.cost_history)\n",
    "        \n",
    "        \n",
    "    def predict(self, x):\n",
    "        \"\"\" \n",
    "        Returns an array of predicted values\n",
    "        x : x has to be an numpy object that matches the shape of theta (based on the fit() method)\n",
    "        \"\"\"\n",
    "        try:\n",
    "            return x.dot(self.theta)\n",
    "        except AttributeError:\n",
    "            print(\"Error! Argument has to be a numpy object.\")\n",
    "        except ValueError:\n",
    "            print(\"Error! Argument has to match the shape of the training parameter theta\")"
   ]
  },
  {
   "cell_type": "code",
   "execution_count": 86,
   "metadata": {},
   "outputs": [
    {
     "data": {
      "image/png": "[encoded data removed]",
      "text/plain": [
       "<Figure size 432x288 with 1 Axes>"
      ]
     },
     "metadata": {
      "needs_background": "light"
     },
     "output_type": "display_data"
    }
   ],
   "source": [
    "LR = linear_regression()\n",
    "# input alpha as alpha, iterations as iter\n",
    "theta, cost = LR.fit(X, Y)\n",
    "\n",
    "LR.show_cost_plot()"
   ]
  },
  {
   "cell_type": "code",
   "execution_count": 87,
   "metadata": {},
   "outputs": [
    {
     "name": "stdout",
     "output_type": "stream",
     "text": [
      "Error! Argument has to be a numpy object.\n"
     ]
    }
   ],
   "source": [
    "# predict for 3.5 and 7\n",
    "x_pred = np.array([1, 3.5, 7])\n",
    "\n",
    "h = LR.predict([1, 3.5, 7])"
   ]
  },
  {
   "cell_type": "code",
   "execution_count": 88,
   "metadata": {},
   "outputs": [
    {
     "name": "stdout",
     "output_type": "stream",
     "text": [
      "[679884.63929992]\n"
     ]
    }
   ],
   "source": [
    "h = LR.predict(x_pred)\n",
    "print(h)"
   ]
  },
  {
   "cell_type": "code",
   "execution_count": null,
   "metadata": {},
   "outputs": [],
   "source": []
  }
 ],
 "metadata": {
  "kernelspec": {
   "display_name": "Python 3",
   "language": "python",
   "name": "python3"
  },
  "language_info": {
   "codemirror_mode": {
    "name": "ipython",
    "version": 3
   },
   "file_extension": ".py",
   "mimetype": "text/x-python",
   "name": "python",
   "nbconvert_exporter": "python",
   "pygments_lexer": "ipython3",
   "version": "3.7.2"
  }
 },
 "nbformat": 4,
 "nbformat_minor": 4
}
